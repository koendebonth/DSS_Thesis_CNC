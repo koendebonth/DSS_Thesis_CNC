{
 "cells": [
  {
   "cell_type": "markdown",
   "metadata": {},
   "source": [
    "# Experiment 1: Problem of unbalanced data\n",
    "\n",
    "### One class classification vs Binary classification"
   ]
  },
  {
   "cell_type": "code",
   "execution_count": null,
   "metadata": {},
   "outputs": [],
   "source": [
    "#import depencies\n",
    "import os\n",
    "import sys\n",
    "from pathlib import Path\n",
    "\n",
    "try:\n",
    "    # Get the current working directory\n",
    "    current_dir = os.getcwd()\n",
    "\n",
    "    # Set the root directory to the parent of the current directory\n",
    "    root_dir = os.path.dirname(os.path.dirname(current_dir))\n",
    "\n",
    "    # Add the root directory to sys.path so Python can find the utils module\n",
    "    sys.path.append(str(root_dir))\n",
    "\n",
    "    # Standard libraries\n",
    "    import numpy as np\n",
    "    import pandas as pd\n",
    "    import itertools\n",
    "    import h5py\n",
    "\n",
    "    # Data processing and visualization\n",
    "    import matplotlib.pyplot as plt\n",
    "    import seaborn as sns\n",
    "    from scipy import signal, stats\n",
    "    import pywt\n",
    "    from tqdm import tqdm\n",
    "\n",
    "    # Machine learning\n",
    "    from sklearn.model_selection import train_test_split\n",
    "    from sklearn.preprocessing import StandardScaler\n",
    "    from sklearn.svm import OneClassSVM\n",
    "    from sklearn.ensemble import IsolationForest\n",
    "\n",
    "    from imblearn.over_sampling import SMOTE\n",
    "\n",
    "    # Custom utilities\n",
    "    from utils.feature_extraction import transform_data\n",
    "    from utils.load_data import load_data\n",
    "    from utils.result_utils import create_results_df, record_result\n",
    "\n",
    "\n",
    "    from sklearn.metrics import f1_score, confusion_matrix, ConfusionMatrixDisplay, classification_report\n",
    "    import matplotlib.pyplot as plt\n",
    "\n",
    "\n",
    "    print(\"Dependencies loaded successfully ✅\")\n",
    "except Exception as e:\n",
    "    print(f\"Error loading dependencies: {e}\")"
   ]
  },
  {
   "cell_type": "code",
   "execution_count": null,
   "metadata": {},
   "outputs": [],
   "source": [
    "#0 == good | 1 == bad |\n",
    "X, y, y_binary = load_data()"
   ]
  },
  {
   "cell_type": "markdown",
   "metadata": {},
   "source": [
    "### Experiment 1.1: One Class Classification (OneClassSVM)"
   ]
  },
  {
   "cell_type": "code",
   "execution_count": null,
   "metadata": {},
   "outputs": [],
   "source": [
    "# Split data into training (80%) and testing (20%) sets while maintaining class distribution\n",
    "trainX, testX, trainy, testy = train_test_split(X, y_binary, test_size=0.4, random_state=42, stratify=y_binary)\n",
    "\n",
    "# Extract features from raw data for both training and testing sets\n",
    "trainX_tr, trainy_tr = transform_data(trainX, trainy, label_type='binary')\n",
    "testX_tr, testy_tr = transform_data(testX, testy, label_type='binary')\n",
    "\n",
    "# Initialize One-Class SVM model\n",
    "# gamma='scale' automatically scales gamma based on feature variance\n",
    "# nu=0.01 controls the upper bound on training errors and lower bound on support vectors\n",
    "model = OneClassSVM(gamma='scale', nu=0.01)\n",
    "\n",
    "# Filter training data to only include normal samples (class 0)\n",
    "trainX_0 = trainX_tr[trainy_tr==0]\n",
    "# Train the model on normal samples only\n",
    "model.fit(trainX_0)\n",
    "\n",
    "# Make predictions on test data\n",
    "# OneClassSVM returns: 1 for inliers (normal), -1 for outliers (anomalies)\n",
    "yhat = model.predict(testX_tr)\n",
    "\n",
    "# Convert ground truth labels to match OneClassSVM output format:\n",
    "# -1 for anomalies (class 1), 1 for normal (class 0)\n",
    "testy_converted = np.array(testy.copy())\n",
    "# Then apply the conversion\n",
    "testy_converted[testy_converted == 1] = -1\n",
    "testy_converted[testy_converted == 0] = 1\n",
    "\n",
    "# Calculate F1 score for anomaly detection (using -1 as the positive class)\n",
    "score = f1_score(testy_converted, yhat, pos_label=-1)\n",
    "print('F1 Score: %.3f' % score)\n",
    "\n",
    "# Calculate confusion matrix\n",
    "cm = confusion_matrix(testy_converted, yhat)\n",
    "\n",
    "# Display confusion matrix\n",
    "plt.figure(figsize=(8, 6))\n",
    "sns.heatmap(cm, annot=True, fmt='d', cmap='Blues', \n",
    "            xticklabels=['Anomaly (-1)', 'Normal (1)'], \n",
    "            yticklabels=['Anomaly (-1)', 'Normal (1)'])\n",
    "plt.xlabel('Predicted')\n",
    "plt.ylabel('True')\n",
    "plt.title('Confusion Matrix - OneClassSVM')\n",
    "plt.show()\n",
    "\n",
    "# Display classification report\n",
    "print(classification_report(testy_converted, yhat, target_names=['Anomaly (-1)', 'Normal (1)']))"
   ]
  },
  {
   "cell_type": "markdown",
   "metadata": {},
   "source": [
    "### Experiment 1.2: One Class Classification (Isolation Forest)"
   ]
  },
  {
   "cell_type": "code",
   "execution_count": null,
   "metadata": {},
   "outputs": [],
   "source": [
    "# Split data into training (80%) and testing (20%) sets while maintaining class distribution\n",
    "trainX, testX, trainy, testy = train_test_split(X, y_binary, test_size=0.4, random_state=42, stratify=y_binary)\n",
    "\n",
    "# Extract features from raw data for both training and testing sets\n",
    "trainX_tr, trainy_tr = transform_data(trainX, trainy, label_type='binary')\n",
    "testX_tr, testy_tr = transform_data(testX, testy, label_type='binary')\n",
    "\n",
    "# Initialize Isolation Forest model\n",
    "# Default parameters work well for anomaly detection\n",
    "model = IsolationForest(contamination=0.01)\n",
    "\n",
    "# Filter training data to only include normal samples (class 0)\n",
    "trainX_0 = trainX_tr[trainy_tr==0]\n",
    "# Train the model on normal samples only\n",
    "model.fit(trainX_0)\n",
    "\n",
    "# Make predictions on test data\n",
    "# Isolation Forest returns: 1 for inliers (normal), -1 for outliers (anomalies)\n",
    "yhat = model.predict(testX_tr)\n",
    "\n",
    "# Convert ground truth labels to match Isolation Forest output format:\n",
    "# -1 for anomalies (class 1), 1 for normal (class 0)\n",
    "testy_converted = np.array(testy.copy())\n",
    "# Then apply the conversion\n",
    "testy_converted[testy_converted == 1] = -1\n",
    "testy_converted[testy_converted == 0] = 1\n",
    "\n",
    "# Calculate F1 score for anomaly detection (using -1 as the positive class)\n",
    "score = f1_score(testy_converted, yhat, pos_label=-1)\n",
    "print('F1 Score: %.3f' % score)\n",
    "\n",
    "# Calculate confusion matrix\n",
    "cm = confusion_matrix(testy_converted, yhat)\n",
    "\n",
    "# Display confusion matrix\n",
    "plt.figure(figsize=(8, 6))\n",
    "sns.heatmap(cm, annot=True, fmt='d', cmap='Blues', \n",
    "            xticklabels=['Anomaly (-1)', 'Normal (1)'], \n",
    "            yticklabels=['Anomaly (-1)', 'Normal (1)'])\n",
    "plt.xlabel('Predicted')\n",
    "plt.ylabel('True')\n",
    "plt.title('Confusion Matrix - Isolation Forest')\n",
    "plt.show()\n",
    "\n",
    "# Display classification report\n",
    "print(classification_report(testy_converted, yhat, target_names=['Anomaly (-1)', 'Normal (1)']))"
   ]
  },
  {
   "cell_type": "markdown",
   "metadata": {},
   "source": [
    "### Experiment 1.3: Binary Classification (Random Forest)"
   ]
  },
  {
   "cell_type": "markdown",
   "metadata": {},
   "source": []
  }
 ],
 "metadata": {
  "kernelspec": {
   "display_name": "thesis",
   "language": "python",
   "name": "python3"
  },
  "language_info": {
   "codemirror_mode": {
    "name": "ipython",
    "version": 3
   },
   "file_extension": ".py",
   "mimetype": "text/x-python",
   "name": "python",
   "nbconvert_exporter": "python",
   "pygments_lexer": "ipython3",
   "version": "3.11.11"
  }
 },
 "nbformat": 4,
 "nbformat_minor": 2
}
