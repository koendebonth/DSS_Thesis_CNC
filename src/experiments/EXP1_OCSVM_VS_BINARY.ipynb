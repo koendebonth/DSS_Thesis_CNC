{
 "cells": [
  {
   "cell_type": "markdown",
   "metadata": {},
   "source": [
    "# Experiment 1: Problem of unbalanced data\n",
    "\n",
    "### One class classification vs Binary classification"
   ]
  },
  {
   "cell_type": "code",
   "execution_count": 18,
   "metadata": {},
   "outputs": [
    {
     "name": "stdout",
     "output_type": "stream",
     "text": [
      "Dependencies loaded successfully ✅\n"
     ]
    }
   ],
   "source": [
    "#import depencies\n",
    "import h5py\n",
    "import itertools\n",
    "import json\n",
    "import os\n",
    "import sys\n",
    "from pathlib import Path\n",
    "\n",
    "try:\n",
    "    # Get the current working directory\n",
    "    current_dir = os.getcwd()\n",
    "\n",
    "    # Set the root directory to the parent of the current directory\n",
    "    root_dir = os.path.dirname(os.path.dirname(current_dir))\n",
    "\n",
    "    # Add the root directory to sys.path so Python can find the utils module\n",
    "    sys.path.append(str(root_dir))\n",
    "\n",
    "    # Standard libraries\n",
    "    import numpy as np\n",
    "    import pandas as pd\n",
    "    from IPython.display import display\n",
    "    from imblearn.over_sampling import SMOTE\n",
    "    from imblearn.under_sampling import RandomUnderSampler\n",
    "    import matplotlib.pyplot as plt\n",
    "    import pywt\n",
    "    import seaborn as sns\n",
    "    from scipy import signal, stats\n",
    "    from sklearn.ensemble import IsolationForest, RandomForestClassifier\n",
    "    from sklearn.metrics import (\n",
    "        accuracy_score,\n",
    "        classification_report,\n",
    "        confusion_matrix,\n",
    "        ConfusionMatrixDisplay,\n",
    "        f1_score,\n",
    "        make_scorer,\n",
    "        precision_score,\n",
    "        recall_score\n",
    "    )\n",
    "    from sklearn.model_selection import GridSearchCV, train_test_split\n",
    "    from sklearn.preprocessing import StandardScaler\n",
    "    from sklearn.svm import OneClassSVM\n",
    "    from tqdm import tqdm\n",
    "\n",
    "    # Custom utilities\n",
    "    from utils.feature_extraction import transform_data\n",
    "    from utils.load_data import load_data\n",
    "    from utils.result_utils import create_results_df, record_result\n",
    "\n",
    "    print(\"Dependencies loaded successfully ✅\")\n",
    "except Exception as e:\n",
    "    print(f\"Error loading dependencies: {e}\")"
   ]
  },
  {
   "cell_type": "code",
   "execution_count": 19,
   "metadata": {},
   "outputs": [
    {
     "name": "stderr",
     "output_type": "stream",
     "text": [
      "Loading data: 100%|██████████| 90/90 [00:16<00:00,  5.50it/s, Samples=1702]"
     ]
    },
    {
     "name": "stdout",
     "output_type": "stream",
     "text": [
      "Data loaded successfully ✅ - 1702 samples\n"
     ]
    },
    {
     "name": "stderr",
     "output_type": "stream",
     "text": [
      "\n"
     ]
    }
   ],
   "source": [
    "#0 == good | 1 == bad |\n",
    "X, y, y_binary = load_data()"
   ]
  },
  {
   "cell_type": "markdown",
   "metadata": {},
   "source": [
    "### Experiment 1.1: One Class Classification (OneClassSVM)"
   ]
  },
  {
   "cell_type": "code",
   "execution_count": 20,
   "metadata": {},
   "outputs": [
    {
     "data": {
      "application/vnd.jupyter.widget-view+json": {
       "model_id": "f98fe843c6624e08b3ce4c33d0bfc29c",
       "version_major": 2,
       "version_minor": 0
      },
      "text/plain": [
       "Extracting features:   0%|          | 0/1276 [00:00<?, ?it/s]"
      ]
     },
     "metadata": {},
     "output_type": "display_data"
    },
    {
     "data": {
      "application/vnd.jupyter.widget-view+json": {
       "model_id": "5c238639f7da4246b36f17fd9811dcda",
       "version_major": 2,
       "version_minor": 0
      },
      "text/plain": [
       "Extracting features:   0%|          | 0/426 [00:00<?, ?it/s]"
      ]
     },
     "metadata": {},
     "output_type": "display_data"
    },
    {
     "name": "stdout",
     "output_type": "stream",
     "text": [
      "Class distribution of testy:\n",
      "Class 0: 408 samples (95.77%)\n",
      "Class 1: 18 samples (4.23%)\n",
      "Fitting 3 folds for each of 80 candidates, totalling 240 fits\n",
      "Best parameters: {'gamma': 'scale', 'kernel': 'rbf', 'nu': 0.01}\n",
      "Best score: 0.000\n",
      "F1 Score: 0.296\n"
     ]
    },
    {
     "data": {
      "image/png": "[encoded data removed]",
      "text/plain": [
       "<Figure size 640x480 with 2 Axes>"
      ]
     },
     "metadata": {},
     "output_type": "display_data"
    }
   ],
   "source": [
    "# Split data into training (80%) and testing (20%) sets while maintaining class distribution\n",
    "trainX, testX, trainy, testy = train_test_split(X, y_binary, test_size=0.25, random_state=42, stratify=y_binary)\n",
    "\n",
    "# Extract features from raw data for both training and testing sets\n",
    "trainX_tr, trainy_tr = transform_data(trainX, trainy, label_type='binary')\n",
    "testX_tr, testy_tr = transform_data(testX, testy, label_type='binary')\n",
    "\n",
    "# Print class distribution of testy\n",
    "unique, counts = np.unique(testy, return_counts=True)\n",
    "print(\"Class distribution of testy:\")\n",
    "for class_label, count in zip(unique, counts):\n",
    "    print(f\"Class {class_label}: {count} samples ({count/len(testy)*100:.2f}%)\")\n",
    "\n",
    "# Define parameter grid for OneClassSVM\n",
    "param_grid = {\n",
    "    'gamma': ['scale', 'auto', 0.01, 0.1, 1.0],\n",
    "    'nu': [0.01, 0.05, 0.1, 0.2],\n",
    "    'kernel': ['rbf', 'linear', 'poly', 'sigmoid']\n",
    "}\n",
    "\n",
    "# Create a custom scorer for OneClassSVM\n",
    "def custom_ocsvm_scorer(estimator, X, y):\n",
    "    y_pred = estimator.predict(X)\n",
    "    # Convert predictions: 1 (inlier) -> 0, -1 (outlier) -> 1\n",
    "    y_pred_converted = np.where(y_pred == 1, 0, 1)\n",
    "    return f1_score(y, y_pred_converted, pos_label=1)\n",
    "\n",
    "# Filter training data to only include normal samples (class 0)\n",
    "trainX_0 = trainX_tr[trainy_tr==0]\n",
    "\n",
    "# Perform grid search with 3-fold cross-validation\n",
    "grid_search = GridSearchCV(\n",
    "    OneClassSVM(),\n",
    "    param_grid,\n",
    "    cv=3,\n",
    "    scoring=custom_ocsvm_scorer,\n",
    "    n_jobs=-1,\n",
    "    verbose=1\n",
    ")\n",
    "\n",
    "# Fit the grid search to the normal data\n",
    "grid_search.fit(trainX_0, trainy_tr[trainy_tr==0])\n",
    "\n",
    "# Get the best parameters\n",
    "best_params_OCSVM = grid_search.best_params_\n",
    "print(f\"Best parameters: {best_params_OCSVM}\")\n",
    "print(f\"Best score: {grid_search.best_score_:.3f}\")\n",
    "\n",
    "# Initialize One-Class SVM model with best parameters\n",
    "model = OneClassSVM(**best_params_OCSVM)\n",
    "\n",
    "# Train the model on normal samples only\n",
    "model.fit(trainX_0)\n",
    "\n",
    "# Make predictions on test data\n",
    "# OneClassSVM returns: 1 for inliers (normal), -1 for outliers (anomalies)\n",
    "yhat = model.predict(testX_tr)\n",
    "\n",
    "# Convert ground truth labels to match OneClassSVM output format:\n",
    "# -1 for anomalies (class 1), 1 for normal (class 0)\n",
    "yhat_converted = np.array(yhat.copy())\n",
    "# Then apply the conversion\n",
    "yhat_converted[yhat_converted == 1] = 0\n",
    "yhat_converted[yhat_converted == -1] = 1\n",
    "\n",
    "# Calculate F1 score for anomaly detection (using -1 as the positive class)\n",
    "score_1_1 = f1_score(testy_tr, yhat_converted, pos_label=1)\n",
    "\n",
    "prec_1_1  = precision_score(testy_tr, yhat_converted, pos_label=1)\n",
    "rec_1_1   = recall_score(testy_tr, yhat_converted, pos_label=1)\n",
    "f1_1_1      = f1_score(testy_tr, yhat_converted, pos_label=1)\n",
    "gs_bs_1_1 = grid_search.best_score_\n",
    "print('F1 Score: %.3f' % f1_1_1)\n",
    "\n",
    "# Calculate confusion matrix\n",
    "cm_1_1 = confusion_matrix(testy_tr, yhat_converted,labels=[1,0])\n",
    "\n",
    "# Create classification report\n",
    "cr_1_1 = classification_report(testy_tr, yhat_converted, output_dict=True)\n",
    "\n",
    "disp = ConfusionMatrixDisplay(confusion_matrix=cm_1_1, display_labels=['Anomaly (1)','Normal (0)'])\n",
    "disp.plot()\n",
    "plt.show()\n"
   ]
  },
  {
   "cell_type": "markdown",
   "metadata": {},
   "source": [
    "### Experiment 1.2: One Class Classification (Isolation Forest)"
   ]
  },
  {
   "cell_type": "code",
   "execution_count": 21,
   "metadata": {},
   "outputs": [
    {
     "data": {
      "application/vnd.jupyter.widget-view+json": {
       "model_id": "cf25f7ef0828474b80b6777a4ad5813b",
       "version_major": 2,
       "version_minor": 0
      },
      "text/plain": [
       "Extracting features:   0%|          | 0/1276 [00:00<?, ?it/s]"
      ]
     },
     "metadata": {},
     "output_type": "display_data"
    },
    {
     "data": {
      "application/vnd.jupyter.widget-view+json": {
       "model_id": "240b790847994b1ca820a0f403e18e22",
       "version_major": 2,
       "version_minor": 0
      },
      "text/plain": [
       "Extracting features:   0%|          | 0/426 [00:00<?, ?it/s]"
      ]
     },
     "metadata": {},
     "output_type": "display_data"
    },
    {
     "name": "stdout",
     "output_type": "stream",
     "text": [
      "Fitting 3 folds for each of 180 candidates, totalling 540 fits\n"
     ]
    },
    {
     "name": "stderr",
     "output_type": "stream",
     "text": [
      "/opt/anaconda3/lib/python3.12/site-packages/sklearn/metrics/_classification.py:1509: UndefinedMetricWarning: F-score is ill-defined and being set to 0.0 due to no true nor predicted samples. Use `zero_division` parameter to control this behavior.\n",
      "  _warn_prf(average, modifier, f\"{metric.capitalize()} is\", len(result))\n"
     ]
    },
    {
     "name": "stdout",
     "output_type": "stream",
     "text": [
      "Best parameters: {'contamination': 0.01, 'max_features': 0.7, 'max_samples': 0.7, 'n_estimators': 100}\n",
      "Best validation score: 0.121\n",
      "Test F1 Score: 0.250\n",
      "Test Precision: 0.286\n",
      "Test Recall: 0.222\n"
     ]
    },
    {
     "data": {
      "image/png": "[encoded data removed]",
      "text/plain": [
       "<Figure size 640x480 with 2 Axes>"
      ]
     },
     "metadata": {},
     "output_type": "display_data"
    }
   ],
   "source": [
    "# Split data into training (80%) and testing (20%) sets while maintaining class distribution\n",
    "trainX, testX, trainy, testy = train_test_split(X, y_binary, test_size=0.25, random_state=42, stratify=y_binary)\n",
    "\n",
    "# Extract features from raw data for both training and testing sets\n",
    "trainX_tr, trainy_tr = transform_data(trainX, trainy, label_type='binary')\n",
    "testX_tr, testy_tr = transform_data(testX, testy, label_type='binary')\n",
    "\n",
    "# Define parameter grid for Isolation Forest\n",
    "param_grid = {\n",
    "    'contamination': [0.01, 0.05, 0.1, 0.15, 0.2],\n",
    "    'n_estimators': [50, 100, 200],\n",
    "    'max_samples': ['auto', 0.5, 0.7, 1.0],\n",
    "    'max_features': [0.5, 0.7, 1.0]\n",
    "}\n",
    "\n",
    "# Create a custom scorer for Isolation Forest\n",
    "def custom_isolation_forest_scorer(estimator, X, y):\n",
    "    y_pred = estimator.predict(X)\n",
    "    # Convert predictions: 1 (inlier) -> 0, -1 (outlier) -> 1\n",
    "    y_pred_converted = np.where(y_pred == 1, 0, 1)\n",
    "    return f1_score(y, y_pred_converted, pos_label=1)\n",
    "\n",
    "# Create a validation set from test data for parameter tuning\n",
    "valX, testX_final, valy, testy_final = train_test_split(\n",
    "    testX_tr, testy_tr, test_size=0.5, random_state=42, stratify=testy_tr\n",
    ")\n",
    "\n",
    "# Filter training data to only include normal samples (class 0)\n",
    "trainX_0 = trainX_tr[trainy_tr==0]\n",
    "\n",
    "# Create a combined dataset for GridSearchCV validation\n",
    "# We need both normal and anomaly samples for validation\n",
    "X_combined = np.vstack([trainX_0, valX])\n",
    "y_combined = np.hstack([np.zeros(trainX_0.shape[0]), valy])\n",
    "\n",
    "# Perform grid search with cross-validation\n",
    "grid_search = GridSearchCV(\n",
    "    IsolationForest(random_state=42),\n",
    "    param_grid,\n",
    "    cv=3,\n",
    "    scoring=custom_isolation_forest_scorer,\n",
    "    n_jobs=-1,\n",
    "    verbose=1\n",
    ")\n",
    "\n",
    "# Fit the grid search to the combined dataset\n",
    "grid_search.fit(X_combined, y_combined)\n",
    "\n",
    "# Get best parameters and model\n",
    "best_params_IF = grid_search.best_params_\n",
    "print(\"Best parameters:\", best_params_IF)\n",
    "print(f\"Best validation score: {grid_search.best_score_:.3f}\")\n",
    "\n",
    "# Create a new model with the best parameters\n",
    "model = IsolationForest(\n",
    "    contamination=best_params_IF['contamination'],\n",
    "    n_estimators=best_params_IF['n_estimators'],\n",
    "    max_samples=best_params_IF['max_samples'],\n",
    "    max_features=best_params_IF['max_features'],\n",
    "    random_state=42\n",
    ")\n",
    "\n",
    "# Train on all normal training data\n",
    "model.fit(trainX_0)\n",
    "\n",
    "# Make predictions on test data\n",
    "# Isolation Forest returns: 1 for inliers (normal), -1 for outliers (anomalies)\n",
    "yhat = model.predict(testX_final)\n",
    "\n",
    "# Convert predictions: 1 (inlier) -> 0, -1 (outlier) -> 1\n",
    "yhat_converted = np.where(yhat == 1, 0, 1)\n",
    "\n",
    "# Calculate metrics\n",
    "prec_1_2 = precision_score(testy_final, yhat_converted, pos_label=1)\n",
    "rec_1_2 = recall_score(testy_final, yhat_converted, pos_label=1)\n",
    "f1_1_2 = f1_score(testy_final, yhat_converted, pos_label=1)\n",
    "gs_bs_1_2 = grid_search.best_score_\n",
    "print('Test F1 Score: %.3f' % f1_1_2)\n",
    "print('Test Precision: %.3f' % prec_1_2)\n",
    "print('Test Recall: %.3f' % rec_1_2)\n",
    "\n",
    "# Calculate confusion matrix\n",
    "cm_1_2 = confusion_matrix(testy_final, yhat_converted, labels=[1,0])\n",
    "\n",
    "disp = ConfusionMatrixDisplay(confusion_matrix=cm_1_2, display_labels=['Anomaly (1)','Normal (0)'])\n",
    "disp.plot()\n",
    "plt.show()"
   ]
  },
  {
   "cell_type": "markdown",
   "metadata": {},
   "source": [
    "### Experiment 1.3: Binary Classification (Random Forest)"
   ]
  },
  {
   "cell_type": "code",
   "execution_count": 22,
   "metadata": {},
   "outputs": [
    {
     "data": {
      "application/vnd.jupyter.widget-view+json": {
       "model_id": "1dc7cdd84ca445a0bdf407a6aa22a188",
       "version_major": 2,
       "version_minor": 0
      },
      "text/plain": [
       "Extracting features:   0%|          | 0/1276 [00:00<?, ?it/s]"
      ]
     },
     "metadata": {},
     "output_type": "display_data"
    },
    {
     "data": {
      "application/vnd.jupyter.widget-view+json": {
       "model_id": "a923d77c589c4e439e623629d61ed997",
       "version_major": 2,
       "version_minor": 0
      },
      "text/plain": [
       "Extracting features:   0%|          | 0/426 [00:00<?, ?it/s]"
      ]
     },
     "metadata": {},
     "output_type": "display_data"
    },
    {
     "name": "stdout",
     "output_type": "stream",
     "text": [
      "Fitting 3 folds for each of 576 candidates, totalling 1728 fits\n"
     ]
    },
    {
     "name": "stderr",
     "output_type": "stream",
     "text": [
      "/opt/anaconda3/lib/python3.12/site-packages/sklearn/model_selection/_validation.py:547: FitFailedWarning: \n",
      "1080 fits failed out of a total of 1728.\n",
      "The score on these train-test partitions for these parameters will be set to nan.\n",
      "If these failures are not expected, you can try to debug them by setting error_score='raise'.\n",
      "\n",
      "Below are more details about the failures:\n",
      "--------------------------------------------------------------------------------\n",
      "1080 fits failed with the following error:\n",
      "Traceback (most recent call last):\n",
      "  File \"/opt/anaconda3/lib/python3.12/site-packages/sklearn/model_selection/_validation.py\", line 895, in _fit_and_score\n",
      "    estimator.fit(X_train, y_train, **fit_params)\n",
      "  File \"/opt/anaconda3/lib/python3.12/site-packages/sklearn/base.py\", line 1474, in wrapper\n",
      "    return fit_method(estimator, *args, **kwargs)\n",
      "           ^^^^^^^^^^^^^^^^^^^^^^^^^^^^^^^^^^^^^^\n",
      "  File \"/opt/anaconda3/lib/python3.12/site-packages/imblearn/pipeline.py\", line 329, in fit\n",
      "    Xt, yt = self._fit(X, y, routed_params)\n",
      "             ^^^^^^^^^^^^^^^^^^^^^^^^^^^^^^\n",
      "  File \"/opt/anaconda3/lib/python3.12/site-packages/imblearn/pipeline.py\", line 265, in _fit\n",
      "    X, y, fitted_transformer = fit_resample_one_cached(\n",
      "                               ^^^^^^^^^^^^^^^^^^^^^^^^\n",
      "  File \"/opt/anaconda3/lib/python3.12/site-packages/joblib/memory.py\", line 312, in __call__\n",
      "    return self.func(*args, **kwargs)\n",
      "           ^^^^^^^^^^^^^^^^^^^^^^^^^^\n",
      "  File \"/opt/anaconda3/lib/python3.12/site-packages/imblearn/pipeline.py\", line 1057, in _fit_resample_one\n",
      "    X_res, y_res = sampler.fit_resample(X, y, **params.get(\"fit_resample\", {}))\n",
      "                   ^^^^^^^^^^^^^^^^^^^^^^^^^^^^^^^^^^^^^^^^^^^^^^^^^^^^^^^^^^^^\n",
      "  File \"/opt/anaconda3/lib/python3.12/site-packages/imblearn/base.py\", line 208, in fit_resample\n",
      "    return super().fit_resample(X, y)\n",
      "           ^^^^^^^^^^^^^^^^^^^^^^^^^^\n",
      "  File \"/opt/anaconda3/lib/python3.12/site-packages/imblearn/base.py\", line 108, in fit_resample\n",
      "    self.sampling_strategy_ = check_sampling_strategy(\n",
      "                              ^^^^^^^^^^^^^^^^^^^^^^^^\n",
      "  File \"/opt/anaconda3/lib/python3.12/site-packages/imblearn/utils/_validation.py\", line 571, in check_sampling_strategy\n",
      "    _sampling_strategy_float(sampling_strategy, y, sampling_type).items()\n",
      "    ^^^^^^^^^^^^^^^^^^^^^^^^^^^^^^^^^^^^^^^^^^^^^^^^^^^^^^^^^^^^^\n",
      "  File \"/opt/anaconda3/lib/python3.12/site-packages/imblearn/utils/_validation.py\", line 410, in _sampling_strategy_float\n",
      "    raise ValueError(\n",
      "ValueError: The specified ratio required to remove samples from the minority class while trying to generate new samples. Please increase the ratio.\n",
      "\n",
      "  warnings.warn(some_fits_failed_message, FitFailedWarning)\n",
      "/opt/anaconda3/lib/python3.12/site-packages/sklearn/model_selection/_search.py:1051: UserWarning: One or more of the test scores are non-finite: [       nan 0.81013752 0.78907853 0.77995869        nan        nan\n",
      " 0.72363552 0.72189922        nan        nan        nan 0.70674772\n",
      "        nan        nan        nan        nan        nan 0.79717456\n",
      " 0.75925719 0.7528775         nan        nan 0.70940078 0.71590909\n",
      "        nan        nan        nan 0.70085044        nan        nan\n",
      "        nan        nan        nan 0.79717456 0.75925719 0.74299852\n",
      "        nan        nan 0.71365248 0.725             nan        nan\n",
      "        nan 0.69152928        nan        nan        nan        nan\n",
      "        nan 0.80796115 0.81318991 0.75850239        nan        nan\n",
      " 0.71018519 0.73106061        nan        nan        nan 0.70409301\n",
      "        nan        nan        nan        nan        nan 0.79717456\n",
      " 0.75925719 0.73559111        nan        nan 0.71365248 0.7192029\n",
      "        nan        nan        nan 0.70085044        nan        nan\n",
      "        nan        nan        nan 0.79026399 0.75925719 0.74144097\n",
      "        nan        nan 0.71365248 0.725             nan        nan\n",
      "        nan 0.68621013        nan        nan        nan        nan\n",
      "        nan 0.79459064 0.76013438 0.7556165         nan        nan\n",
      " 0.71673421 0.72496305        nan        nan        nan 0.68443354\n",
      "        nan        nan        nan        nan        nan 0.80906486\n",
      " 0.75272697 0.7556165         nan        nan 0.72633185 0.73549323\n",
      "        nan        nan        nan 0.71662971        nan        nan\n",
      "        nan        nan        nan 0.79457211 0.74552949 0.7556165\n",
      "        nan        nan 0.71461781 0.72943262        nan        nan\n",
      "        nan 0.70664754        nan        nan        nan        nan\n",
      "        nan 0.77515912 0.7529369  0.74835154        nan        nan\n",
      " 0.70781217 0.70271305        nan        nan        nan 0.69340925\n",
      "        nan        nan        nan        nan        nan 0.77248919\n",
      " 0.74552949 0.7556165         nan        nan 0.74609929 0.73549323\n",
      "        nan        nan        nan 0.71056911        nan        nan\n",
      "        nan        nan        nan 0.76529171 0.74552949 0.74835154\n",
      "        nan        nan 0.71461781 0.72363552        nan        nan\n",
      "        nan 0.70085044        nan        nan        nan        nan\n",
      "        nan 0.81013752 0.78907853 0.79823604        nan        nan\n",
      " 0.71461781 0.73106061        nan        nan        nan 0.71255492\n",
      "        nan        nan        nan        nan        nan 0.79717456\n",
      " 0.75925719 0.76875051        nan        nan 0.7192029  0.71018519\n",
      "        nan        nan        nan 0.71270814        nan        nan\n",
      "        nan        nan        nan 0.79717456 0.75925719 0.75770114\n",
      "        nan        nan 0.71365248 0.725             nan        nan\n",
      "        nan 0.69152928        nan        nan        nan        nan\n",
      "        nan 0.79965626 0.78907853 0.75850239        nan        nan\n",
      " 0.71461781 0.72037685        nan        nan        nan 0.70989011\n",
      "        nan        nan        nan        nan        nan 0.79026399\n",
      " 0.75945899 0.74576512        nan        nan 0.71365248 0.7192029\n",
      "        nan        nan        nan 0.70085044        nan        nan\n",
      "        nan        nan        nan 0.79026399 0.75925719 0.74835154\n",
      "        nan        nan 0.71365248 0.7192029         nan        nan\n",
      "        nan 0.68998087        nan        nan        nan        nan\n",
      "        nan 0.78890282 0.77003091 0.76543551        nan        nan\n",
      " 0.72292856 0.7281746         nan        nan        nan 0.70714551\n",
      "        nan        nan        nan        nan        nan 0.81586425\n",
      " 0.77003091 0.75535855        nan        nan 0.72292856 0.72633185\n",
      "        nan        nan        nan 0.71056911        nan        nan\n",
      "        nan        nan        nan 0.78730715 0.74835154 0.76262351\n",
      "        nan        nan 0.72034172 0.73106061        nan        nan\n",
      "        nan 0.70664754        nan        nan        nan        nan\n",
      "        nan 0.80212951 0.77787405 0.74144097        nan        nan\n",
      " 0.71723823 0.71442709        nan        nan        nan 0.69027642\n",
      "        nan        nan        nan        nan        nan 0.80212951\n",
      " 0.77943262 0.76326382        nan        nan 0.73260723 0.73549323\n",
      "        nan        nan        nan 0.7028768         nan        nan\n",
      "        nan        nan        nan 0.78007573 0.73852248 0.7556165\n",
      "        nan        nan 0.71461781 0.72363552        nan        nan\n",
      "        nan 0.70085044        nan        nan        nan        nan\n",
      "        nan 0.81013752 0.78907853 0.79823604        nan        nan\n",
      " 0.71461781 0.73106061        nan        nan        nan 0.71255492\n",
      "        nan        nan        nan        nan        nan 0.79717456\n",
      " 0.75925719 0.76875051        nan        nan 0.7192029  0.71018519\n",
      "        nan        nan        nan 0.71270814        nan        nan\n",
      "        nan        nan        nan 0.79717456 0.75925719 0.75770114\n",
      "        nan        nan 0.71365248 0.725             nan        nan\n",
      "        nan 0.69152928        nan        nan        nan        nan\n",
      "        nan 0.79965626 0.78907853 0.75850239        nan        nan\n",
      " 0.71461781 0.72037685        nan        nan        nan 0.70989011\n",
      "        nan        nan        nan        nan        nan 0.79026399\n",
      " 0.75945899 0.74576512        nan        nan 0.71365248 0.7192029\n",
      "        nan        nan        nan 0.70085044        nan        nan\n",
      "        nan        nan        nan 0.79026399 0.75925719 0.74835154\n",
      "        nan        nan 0.71365248 0.7192029         nan        nan\n",
      "        nan 0.68998087        nan        nan        nan        nan\n",
      "        nan 0.77747809 0.77003091 0.76543551        nan        nan\n",
      " 0.72292856 0.7281746         nan        nan        nan 0.70714551\n",
      "        nan        nan        nan        nan        nan 0.81586425\n",
      " 0.77003091 0.76262351        nan        nan 0.72292856 0.72633185\n",
      "        nan        nan        nan 0.71056911        nan        nan\n",
      "        nan        nan        nan 0.78730715 0.74835154 0.76262351\n",
      "        nan        nan 0.72034172 0.73106061        nan        nan\n",
      "        nan 0.70664754        nan        nan        nan        nan\n",
      "        nan 0.81355425 0.77787405 0.74144097        nan        nan\n",
      " 0.71723823 0.71442709        nan        nan        nan 0.69027642\n",
      "        nan        nan        nan        nan        nan 0.80212951\n",
      " 0.77202522 0.76326382        nan        nan 0.73260723 0.73549323\n",
      "        nan        nan        nan 0.7028768         nan        nan\n",
      "        nan        nan        nan 0.78007573 0.73852248 0.7556165\n",
      "        nan        nan 0.71461781 0.72363552        nan        nan\n",
      "        nan 0.70085044        nan        nan        nan        nan]\n",
      "  warnings.warn(\n"
     ]
    },
    {
     "name": "stdout",
     "output_type": "stream",
     "text": [
      "Best parameters: {'rf__max_depth': 10, 'rf__max_features': 'log2', 'rf__min_samples_split': 2, 'rf__n_estimators': 200, 'rus__sampling_strategy': 0.2, 'smote__sampling_strategy': 0.3}\n",
      "Best cross-validation F1 score: 0.816\n",
      "F1 Score: 0.941\n"
     ]
    },
    {
     "data": {
      "image/png": "[encoded data removed]",
      "text/plain": [
       "<Figure size 640x480 with 2 Axes>"
      ]
     },
     "metadata": {},
     "output_type": "display_data"
    }
   ],
   "source": [
    "# Split data into training (80%) and testing (20%) sets while maintaining class distribution\n",
    "trainX, testX, trainy, testy = train_test_split(X, y_binary, test_size=0.25, random_state=42, stratify=y_binary)\n",
    "\n",
    "# transform data only once to avoid repeated expensive operations\n",
    "trainX_tr, trainy_tr = transform_data(trainX, trainy, label_type='binary')\n",
    "testX_tr, testy_tr = transform_data(testX, testy, label_type='binary')\n",
    "\n",
    "# Parameter grid for Grid Search\n",
    "param_grid = {\n",
    "    'rus__sampling_strategy': [0.2, 0.3, 0.5, 0.7],\n",
    "    'smote__sampling_strategy': [0.2, 0.3, 0.5, 0.7],\n",
    "    'rf__n_estimators': [100, 200, 300],\n",
    "    'rf__max_depth': [5, 10, None],\n",
    "    'rf__min_samples_split': [2, 5],\n",
    "    'rf__max_features': ['sqrt', 'log2']\n",
    "}\n",
    "\n",
    "# Use imblearn's Pipeline instead of sklearn's\n",
    "from imblearn.pipeline import Pipeline\n",
    "\n",
    "# Create a pipeline with undersampling, SMOTE, and Random Forest\n",
    "pipeline = Pipeline([\n",
    "    ('rus', RandomUnderSampler(random_state=42)),\n",
    "    ('smote', SMOTE(random_state=42)),\n",
    "    ('rf', RandomForestClassifier(random_state=42))\n",
    "])\n",
    "\n",
    "# Use F1 score as the scoring metric\n",
    "f1_scorer = make_scorer(f1_score, pos_label=1)\n",
    "\n",
    "# Perform grid search with 3-fold cross-validation\n",
    "grid_search = GridSearchCV(\n",
    "    pipeline, \n",
    "    param_grid, \n",
    "    cv=3, \n",
    "    scoring=f1_scorer,\n",
    "    n_jobs=-1,\n",
    "    verbose=1\n",
    ")\n",
    "\n",
    "# Fit the grid search to the preprocessed data (already transformed)\n",
    "grid_search.fit(trainX_tr, trainy_tr)\n",
    "\n",
    "best_params_RF = grid_search.best_params_\n",
    "\n",
    "# Print best parameters and score\n",
    "print(\"Best parameters:\", best_params_RF)\n",
    "print(\"Best cross-validation F1 score: {:.3f}\".format(grid_search.best_score_))\n",
    "\n",
    "\n",
    "\n",
    "# Use the best model for prediction\n",
    "best_model_rf = grid_search.best_estimator_\n",
    "yhat = best_model_rf.predict(testX_tr)\n",
    "prec_1_3 = precision_score(testy_tr, yhat, pos_label=1)\n",
    "rec_1_3 = recall_score(testy_tr, yhat, pos_label=1)\n",
    "f1_1_3 = f1_score(testy_tr, yhat, pos_label=1)\n",
    "gs_bs_1_3 = grid_search.best_score_\n",
    "print('F1 Score: %.3f' % f1_1_3)\n",
    "\n",
    "# Calculate confusion matrix\n",
    "cm_1_3 = confusion_matrix(testy_tr, yhat, labels=[1,0])\n",
    "disp = ConfusionMatrixDisplay(confusion_matrix=cm_1_3, display_labels=['Anomaly (1)','Normal (0)'])\n",
    "disp.plot()\n",
    "plt.show()"
   ]
  },
  {
   "cell_type": "markdown",
   "metadata": {},
   "source": [
    "### Experiment 1.4: Binary Classification (Light-Gradient Boosting)"
   ]
  },
  {
   "cell_type": "code",
   "execution_count": null,
   "metadata": {},
   "outputs": [
    {
     "data": {
      "application/vnd.jupyter.widget-view+json": {
       "model_id": "955665f82d294032a59d9e9ec3213c53",
       "version_major": 2,
       "version_minor": 0
      },
      "text/plain": [
       "Extracting features:   0%|          | 0/1276 [00:00<?, ?it/s]"
      ]
     },
     "metadata": {},
     "output_type": "display_data"
    },
    {
     "data": {
      "application/vnd.jupyter.widget-view+json": {
       "model_id": "7d1f6b2694e546bf9ba9a53d4c2d4795",
       "version_major": 2,
       "version_minor": 0
      },
      "text/plain": [
       "Extracting features:   0%|          | 0/426 [00:00<?, ?it/s]"
      ]
     },
     "metadata": {},
     "output_type": "display_data"
    },
    {
     "name": "stdout",
     "output_type": "stream",
     "text": [
      "Fitting 3 folds for each of 3456 candidates, totalling 10368 fits\n"
     ]
    }
   ],
   "source": [
    "# 1) create a tiny validation fold for early-stopping\n",
    "from lightgbm import LGBMClassifier\n",
    "\n",
    "# Split data into training (80%) and testing (20%) sets while maintaining class distribution\n",
    "trainX, testX, trainy, testy = train_test_split(X, y_binary, test_size=0.25, random_state=42, stratify=y_binary)\n",
    "\n",
    "# transform data only once to avoid repeated expensive operations\n",
    "trainX_tr, trainy_tr = transform_data(trainX, trainy, label_type='binary')\n",
    "testX_tr, testy_tr = transform_data(testX, testy, label_type='binary')\n",
    "\n",
    "# 2) tighten the grid slightly if you like (optional)\n",
    "param_grid = {\n",
    "    'rus__sampling_strategy': [0.2, 0.3, 0.5, 0.7],\n",
    "    'smote__sampling_strategy': [0.2, 0.3, 0.5, 0.7],\n",
    "    'lgb__n_estimators': [100, 200, 300],\n",
    "    'lgb__learning_rate': [0.01, 0.05, 0.1],\n",
    "    'lgb__num_leaves': [31, 63],\n",
    "    'lgb__max_depth': [5, 7, -1],\n",
    "    'lgb__subsample': [0.8, 1.0],\n",
    "    'lgb__colsample_bytree': [0.8, 1.0]\n",
    "}\n",
    "\n",
    "pipeline = Pipeline([\n",
    "    ('rus', RandomUnderSampler(random_state=42)),\n",
    "    ('smote', SMOTE(random_state=42)),\n",
    "    ('lgb', LGBMClassifier(random_state=42))\n",
    "])\n",
    "\n",
    "# Use F1 score as the scoring metric\n",
    "f1_scorer = make_scorer(f1_score, pos_label=1)\n",
    "\n",
    "# Perform grid search with 3-fold cross-validation\n",
    "grid_search = GridSearchCV(\n",
    "    pipeline, \n",
    "    param_grid, \n",
    "    cv=3, \n",
    "    scoring=f1_scorer,\n",
    "    n_jobs=-1,\n",
    "    verbose=1\n",
    ")\n",
    "\n",
    "# Fit the grid search to the preprocessed data (already transformed)\n",
    "grid_search.fit(trainX_tr, trainy_tr)\n",
    "\n",
    "best_params_LGBM = grid_search.best_params_\n",
    "# Print best parameters and score\n",
    "print(\"Best parameters:\", best_params_LGBM)\n",
    "print(\"Best cross-validation F1 score: {:.3f}\".format(grid_search.best_score_))\n",
    "\n",
    "gs_bs_1_4 = grid_search.best_score_\n",
    "# finally evaluate on your true test set\n",
    "best = grid_search.best_estimator_\n",
    "yhat = best.predict(testX_tr)\n",
    "\n",
    "prec_1_4 = precision_score(testy_tr, yhat, pos_label=1)\n",
    "rec_1_4 = recall_score(testy_tr, yhat, pos_label=1)\n",
    "f1_1_4 = f1_score(testy_tr, yhat, pos_label=1)\n",
    "gs_bs_1_4 = grid_search.best_score_\n",
    "print('F1 Score: %.3f' % f1_1_4)\n",
    "\n",
    "# Calculate confusion matrix\n",
    "cm_1_4 = confusion_matrix(testy_tr, yhat, labels=[1,0])\n",
    "print(\"Test F1: %.3f\" % f1_score(testy_tr, yhat, pos_label=1))\n",
    "disp = ConfusionMatrixDisplay(\n",
    "    confusion_matrix=confusion_matrix(testy_tr, yhat, labels=[1,0]),\n",
    "    display_labels=['Anomaly (1)','Normal (0)']\n",
    ")\n",
    "\n",
    "disp.plot(); plt.show()"
   ]
  },
  {
   "cell_type": "markdown",
   "metadata": {},
   "source": [
    "### Experiment 1: Results"
   ]
  },
  {
   "cell_type": "code",
   "execution_count": null,
   "metadata": {},
   "outputs": [],
   "source": [
    "# Create a table with all results\n",
    "import pandas as pd\n",
    "\n",
    "\n",
    "# Collect all results\n",
    "results = [\n",
    "    {\n",
    "        \"Model\": \"OneClassSVM\",\n",
    "        \"Class\": \"One Class Classification\",\n",
    "        \"Precision\": prec_1_1,\n",
    "        \"Recall\": rec_1_1,\n",
    "        \"Best Score Validation\": 0,\n",
    "        \"F1 Score Test\": f1_1_1\n",
    "    },\n",
    "    {\n",
    "        \"Model\": \"Isolation Forest\",\n",
    "        \"Class\": \"One Class Classification\",\n",
    "        \"Precision\": prec_1_2,\n",
    "        \"Recall\": rec_1_2,\n",
    "        \"Best Score Validation\": 0,\n",
    "        \"F1 Score Test\": f1_1_2\n",
    "    },\n",
    "    {\n",
    "        \"Model\": \"Random Forest\",\n",
    "        \"Class\": \"Binary Classification\",\n",
    "        \"Precision\": prec_1_3,\n",
    "        \"Recall\": rec_1_3,\n",
    "        \"Best Score Validation\": gs_bs_1_3,\n",
    "        \"F1 Score Test\": f1_1_3\n",
    "    },\n",
    "    {\n",
    "        \"Model\": \"Light Gradient Boosting\",\n",
    "        \"Class\": \"Binary Classification\",\n",
    "        \"Precision\": prec_1_4,\n",
    "        \"Recall\": rec_1_4,\n",
    "        \"Best Score Validation\": gs_bs_1_4,\n",
    "        \"F1 Score Test\": f1_1_4\n",
    "    }\n",
    "]\n",
    "\n",
    "# Create a DataFrame for display\n",
    "results_df = pd.DataFrame([\n",
    "    {\n",
    "        \"Model\": r[\"Model\"],\n",
    "        \"Class\": r['Class'],\n",
    "        \"Precision\": round(r[\"Precision\"], 3),\n",
    "        \"Recall\": round(r[\"Recall\"], 3),\n",
    "        \"Best Score Validation\": round(r[\"Best Score Validation\"], 3),\n",
    "        \"F1 Score Test\": round(r[\"F1 Score Test\"], 3)\n",
    "        # \"Confusion Matrix\":  r['Confusion Matrix']\n",
    "    } for r in results\n",
    "])\n",
    "\n",
    "# Display the results table\n",
    "print(\"Summary of Results:\")\n",
    "display(results_df)\n"
   ]
  },
  {
   "cell_type": "code",
   "execution_count": null,
   "metadata": {},
   "outputs": [],
   "source": [
    "# Print best parameters for each model\n",
    "print(\"Best parameters for One-Class SVM:\")\n",
    "print(best_params_OCSVM)\n",
    "print(\"\\nBest parameters for Isolation Forest:\")\n",
    "print(best_params_IF)\n",
    "print(\"\\nBest parameters for Random Forest:\")\n",
    "print(best_params_RF)\n",
    "print(\"\\nBest parameters for LightGBM:\")\n",
    "print(best_params_LGBM)\n"
   ]
  },
  {
   "cell_type": "code",
   "execution_count": null,
   "metadata": {},
   "outputs": [],
   "source": [
    "# Get the best model from grid search\n",
    "best_params_RF\n",
    "\n",
    "# Extract feature importances from the Random Forest classifier\n",
    "feature_importances = best_params_RF.named_steps['rf'].feature_importances_\n",
    "feature_names = trainX_tr.columns\n",
    "\n",
    "# Create a DataFrame to display feature importances\n",
    "importance_df = pd.DataFrame({\n",
    "    'Feature': feature_names,\n",
    "    'Importance': feature_importances\n",
    "})\n",
    "\n",
    "# Sort by importance and display top 20 features\n",
    "top_features = importance_df.sort_values('Importance', ascending=False).head(20)\n",
    "print(\"Top 20 features selected by the model:\")\n",
    "display(top_features)\n",
    "\n",
    "# Visualize feature importances\n",
    "plt.figure(figsize=(10, 6))\n",
    "plt.barh(top_features['Feature'][:10], top_features['Importance'][:10])\n",
    "plt.xlabel('Importance')\n",
    "plt.ylabel('Feature')\n",
    "plt.title('Top 10 Most Important Features')\n",
    "plt.tight_layout()\n",
    "plt.show()"
   ]
  },
  {
   "cell_type": "code",
   "execution_count": null,
   "metadata": {},
   "outputs": [],
   "source": [
    "import pickle \n",
    "import os\n",
    "import json\n",
    "from copy import deepcopy\n",
    "\n",
    "# Create path to models folder (going up from src to root, then to models)\n",
    "models_path = os.path.join(os.path.dirname(os.path.dirname(os.getcwd())), 'models')\n",
    "\n",
    "# Ensure the models directory exists\n",
    "os.makedirs(models_path, exist_ok=True)\n",
    "\n",
    "# Save best model in the models folder\n",
    "model_path = os.path.join(models_path, 'EXP1_BEST_MODEL.pkl')\n",
    "pickle.dump(best_model_rf, open(model_path, 'wb'))\n",
    "\n",
    "# For saving parameters, we need to create a serializable version\n",
    "# Extract the parameters that are JSON serializable\n",
    "params = best_model_rf.get_params()\n",
    "serializable_params = {}\n",
    "\n",
    "# Create a simplified version with only serializable components\n",
    "for key, value in params.items():\n",
    "    if key in ['steps', 'rus', 'smote', 'rf']:\n",
    "        # Skip complex objects that aren't directly serializable\n",
    "        continue\n",
    "    serializable_params[key] = value\n",
    "\n",
    "# Save the serializable parameters\n",
    "best_params_path = os.path.join(models_path, 'EXP1_BEST_PARAMS.json')\n",
    "with open(best_params_path, 'w') as f:\n",
    "    json.dump(serializable_params, f, indent=4)\n",
    "\n",
    "print(f\"Model saved to: {model_path}\")\n",
    "print(f\"Model parameters saved to: {best_params_path}\")\n",
    "\n",
    "# Test loading the model\n",
    "loaded_model = pickle.load(open(model_path, 'rb'))\n"
   ]
  },
  {
   "cell_type": "code",
   "execution_count": null,
   "metadata": {},
   "outputs": [],
   "source": [
    "import json, pathlib\n",
    "pathlib.Path(os.path.join(models_path,\"tuned_params.json\")).write_text(json.dumps(best_params_RF, indent=2))"
   ]
  }
 ],
 "metadata": {
  "kernelspec": {
   "display_name": "base",
   "language": "python",
   "name": "python3"
  },
  "language_info": {
   "codemirror_mode": {
    "name": "ipython",
    "version": 3
   },
   "file_extension": ".py",
   "mimetype": "text/x-python",
   "name": "python",
   "nbconvert_exporter": "python",
   "pygments_lexer": "ipython3",
   "version": "3.12.4"
  }
 },
 "nbformat": 4,
 "nbformat_minor": 2
}
