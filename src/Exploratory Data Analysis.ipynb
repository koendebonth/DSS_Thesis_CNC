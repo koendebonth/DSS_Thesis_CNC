{
 "cells": [
  {
   "cell_type": "code",
   "execution_count": 8,
   "metadata": {},
   "outputs": [],
   "source": [
    "import os\n",
    "import pandas as pd\n",
    "import numpy as np\n",
    "import matplotlib.pyplot as plt\n",
    "import seaborn as sns\n",
    "import h5py\n",
    "import itertools"
   ]
  },
  {
   "cell_type": "code",
   "execution_count": 9,
   "metadata": {},
   "outputs": [],
   "source": [
    "root_dir = os.path.dirname(os.getcwd())\n",
    "export_dir = os.path.join(root_dir, 'export')\n",
    "df = pd.read_csv(os.path.join(export_dir, 'measurement_files_metadata.csv'))"
   ]
  },
  {
   "cell_type": "code",
   "execution_count": null,
   "metadata": {},
   "outputs": [],
   "source": [
    "# Check the class distribution (imbalance)\n",
    "plt.figure(figsize=(12, 6), facecolor='#f9f9f9')\n",
    "sns.set_style(\"whitegrid\")\n",
    "plt.rcParams.update({'font.size': 11, 'font.family': 'sans-serif'})\n",
    "\n",
    "# Create a custom color palette\n",
    "colors = sns.color_palette(\"viridis\", n_colors=len(df['class'].unique()))\n",
    "\n",
    "# Plot class distribution\n",
    "plt.subplot(1, 2, 1)\n",
    "class_counts = df['class'].value_counts().sort_values(ascending=False)\n",
    "ax1 = sns.barplot(x=class_counts.index, y=class_counts.values, hue=class_counts.index, palette=colors, legend=False)\n",
    "plt.title('Class Distribution', fontsize=14, fontweight='bold')\n",
    "plt.xlabel('Class', fontsize=12)\n",
    "plt.ylabel('Count', fontsize=12)\n",
    "plt.xticks(rotation=45, ha='right')\n",
    "\n",
    "# Add count labels on top of bars\n",
    "for i, v in enumerate(class_counts.values):\n",
    "    ax1.text(i, v + 0.1, str(v), ha='center', fontsize=10)\n",
    "\n",
    "# Plot machine distribution\n",
    "plt.subplot(1, 2, 2)\n",
    "machine_counts = df['machine'].value_counts().sort_values(ascending=False)\n",
    "machine_colors = sns.color_palette(\"mako\", n_colors=len(df['machine'].unique()))\n",
    "ax2 = sns.barplot(x=machine_counts.index, y=machine_counts.values, hue=machine_counts.index, palette=machine_colors, legend=False)\n",
    "plt.title('Machine Distribution', fontsize=14, fontweight='bold')\n",
    "plt.xlabel('Machine', fontsize=12)\n",
    "plt.ylabel('Count', fontsize=12)\n",
    "plt.xticks(rotation=45, ha='right')\n",
    "# Add count labels on top of bars\n",
    "for i, v in enumerate(machine_counts.values):\n",
    "    ax2.text(i, v + 0.1, str(v), ha='center', fontsize=10)\n",
    "\n",
    "plt.tight_layout(pad=3.0)\n",
    "# Save the figure to the export directory\n",
    "plt.savefig(os.path.join(export_dir, 'distribution_plots.png'), dpi=300, bbox_inches='tight')\n",
    "plt.show()\n",
    "\n",
    "# Display percentage distribution for better understanding\n",
    "print(\"Class Distribution (%):\")\n",
    "class_pct = df['class'].value_counts(normalize=True).mul(100).round(2).sort_values(ascending=False)\n",
    "for cls, pct in class_pct.items():\n",
    "    print(f\"  {cls}: {pct}%\")\n",
    "\n",
    "print(\"\\nMachine Distribution (%):\")\n",
    "machine_pct = df['machine'].value_counts(normalize=True).mul(100).round(2).sort_values(ascending=False)\n",
    "for machine, pct in machine_pct.items():\n",
    "    print(f\"  {machine}: {pct}%\")\n"
   ]
  }
 ],
 "metadata": {
  "kernelspec": {
   "display_name": "thesis",
   "language": "python",
   "name": "python3"
  },
  "language_info": {
   "codemirror_mode": {
    "name": "ipython",
    "version": 3
   },
   "file_extension": ".py",
   "mimetype": "text/x-python",
   "name": "python",
   "nbconvert_exporter": "python",
   "pygments_lexer": "ipython3",
   "version": "3.11.11"
  }
 },
 "nbformat": 4,
 "nbformat_minor": 2
}
