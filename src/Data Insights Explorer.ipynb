{
 "cells": [
  {
   "cell_type": "markdown",
   "metadata": {},
   "source": [
    "# DSS Thesis - Koen de Bonth"
   ]
  },
  {
   "cell_type": "markdown",
   "metadata": {},
   "source": [
    "### Import packages"
   ]
  },
  {
   "cell_type": "code",
   "execution_count": null,
   "metadata": {},
   "outputs": [],
   "source": [
    "import os\n",
    "import sys\n",
    "from pathlib import Path\n",
    "\n",
    "# Get the current working directory\n",
    "current_dir = os.getcwd()\n",
    "\n",
    "# Set the root directory to the parent of the current directory\n",
    "root_dir = Path(current_dir).parent\n",
    "\n",
    "# Add the root directory to sys.path so Python can find the utils module\n",
    "sys.path.append(str(root_dir))\n",
    "print(f\"Added {root_dir} to Python path\")"
   ]
  },
  {
   "cell_type": "code",
   "execution_count": null,
   "metadata": {
    "pycharm": {
     "name": "#%%\n"
    }
   },
   "outputs": [],
   "source": [
    "# Standard libraries\n",
    "import numpy as np\n",
    "import pandas as pd\n",
    "import itertools\n",
    "import h5py\n",
    "\n",
    "# Data processing and visualization\n",
    "import matplotlib.pyplot as plt\n",
    "import seaborn as sns\n",
    "from scipy import signal, stats\n",
    "import pywt\n",
    "from tqdm import tqdm\n",
    "\n",
    "# Machine learning\n",
    "from sklearn.model_selection import train_test_split\n",
    "from sklearn.ensemble import RandomForestClassifier\n",
    "from sklearn.metrics import classification_report, confusion_matrix\n",
    "from imblearn.over_sampling import SMOTE\n",
    "import lightgbm as lgb\n",
    "\n",
    "# Custom utilities\n",
    "from utils import data_loader_utils\n",
    "from utils.feature_extraction import transform_data, prepare_train_test_data\n",
    "from utils.model_validation import perform_cross_validation"
   ]
  },
  {
   "cell_type": "markdown",
   "metadata": {},
   "source": [
    "### Loading and Preparing Data"
   ]
  },
  {
   "cell_type": "code",
   "execution_count": null,
   "metadata": {
    "pycharm": {
     "name": "#%%\n"
    }
   },
   "outputs": [],
   "source": [
    "machines = [\"M01\",\"M02\",\"M03\"]\n",
    "\n",
    "# total list of operations\n",
    "# process_names = [\"OP00\",\"OP01\",\"OP02\",\"OP03\",\"OP04\",\"OP05\",\"OP06\",\"OP07\",\"OP08\",\"OP09\",\"OP10\",\"OP11\",\"OP12\",\"OP13\",\"OP14\"]\n",
    "\n",
    "# process_names without OP13\n",
    "process_names = [\"OP00\",\"OP01\",\"OP02\",\"OP03\",\"OP04\",\"OP05\",\"OP06\",\"OP07\",\"OP08\",\"OP09\",\"OP10\",\"OP11\",\"OP12\",\"OP14\"]\n",
    "\n",
    "labels = [\"good\",\"bad\"]\n",
    "\n",
    "path_to_dataset = os.path.join(root_dir, \"data\")\n",
    "\n",
    "X_data = []\n",
    "y_data = []\n",
    "\n",
    "for process_name, machine, label in itertools.product(process_names, machines, labels):\n",
    "    data_path = os.path.join(path_to_dataset, machine, process_name, label)\n",
    "    data_list, data_label = data_loader_utils.load_tool_research_data(data_path, label=label)\n",
    "    X_data.extend(data_list)\n",
    "    y_data.extend(data_label)"
   ]
  },
  {
   "cell_type": "markdown",
   "metadata": {},
   "source": [
    "### Data Preprocessing"
   ]
  },
  {
   "cell_type": "markdown",
   "metadata": {},
   "source": [
    "### Split data into training and testing sets"
   ]
  },
  {
   "cell_type": "code",
   "execution_count": null,
   "metadata": {},
   "outputs": [],
   "source": [
    "print(\"y_data type: \", type(y_data))\n",
    "print(\"X_data type: \", type(X_data))\n",
    "\n",
    "\n",
    "# Count occurrences of 'good' and 'bad' in the item_list\n",
    "item_list = [item.split('_')[-1] for item in y_data]\n",
    "good_count = item_list.count('good')\n",
    "bad_count = item_list.count('bad')\n",
    "\n",
    "print(f\"Number of 'good' items: {good_count}\")\n",
    "print(f\"Number of 'bad' items: {bad_count}\")\n",
    "print(f\"Total items: {len(item_list)}\")\n"
   ]
  },
  {
   "cell_type": "code",
   "execution_count": null,
   "metadata": {},
   "outputs": [],
   "source": [
    "X_train, X_test, y_train, y_test = train_test_split(X_data,y_data, stratify=[item.split('_')[-1] for item in y_data], test_size=0.3)\n"
   ]
  },
  {
   "cell_type": "markdown",
   "metadata": {},
   "source": [
    "### Feature Extraction"
   ]
  },
  {
   "cell_type": "code",
   "execution_count": null,
   "metadata": {},
   "outputs": [],
   "source": [
    "X_train_features, y_train_labels = transform_data(X_train, y_train, include_metadata=False)\n",
    "\n",
    "X_test_features, y_test_labels = transform_data(X_test, y_test, include_metadata=False)"
   ]
  },
  {
   "cell_type": "code",
   "execution_count": null,
   "metadata": {},
   "outputs": [],
   "source": [
    "# Count class distribution of training set\n",
    "print(\"Training set class distribution:\")\n",
    "print(pd.Series(y_train_labels).value_counts())\n",
    "print(f\"Total training samples: {len(y_train)}\")\n",
    "print(\"\\n\")\n",
    "\n",
    "# Count class distribution of testing set\n",
    "print(\"Testing set class distribution:\")\n",
    "print(pd.Series(y_test_labels).value_counts())\n",
    "print(f\"Total testing samples: {len(y_test)}\")\n"
   ]
  },
  {
   "cell_type": "markdown",
   "metadata": {},
   "source": [
    "### Synthetic oversampling"
   ]
  },
  {
   "cell_type": "code",
   "execution_count": null,
   "metadata": {},
   "outputs": [],
   "source": [
    "from imblearn.over_sampling import SMOTE\n",
    "\n",
    "smote = SMOTE(sampling_strategy='auto', random_state=42)\n",
    "\n",
    "X_train_resampled, y_train_resampled = smote.fit_resample(X_train_features, y_train_labels)"
   ]
  },
  {
   "cell_type": "markdown",
   "metadata": {},
   "source": [
    "### Model Fit"
   ]
  },
  {
   "cell_type": "code",
   "execution_count": null,
   "metadata": {},
   "outputs": [],
   "source": [
    "# Train Random Forest model\n",
    "RF = RandomForestClassifier(n_estimators=100, random_state=42)\n",
    "RF.fit(X_train_resampled, y_train_resampled)\n",
    "\n",
    "# Evaluate the model\n",
    "y_pred = RF.predict(X_test_features)\n",
    "print(classification_report(y_test_labels, y_pred))\n",
    "print(\"Confusion Matrix:\")\n",
    "print(confusion_matrix(y_test_labels, y_pred))\n",
    "\n",
    "# Feature importance\n",
    "feature_importances = pd.DataFrame(\n",
    "    RF.feature_importances_,\n",
    "    index=X_train_resampled.columns,\n",
    "    columns=['importance']\n",
    ").sort_values('importance', ascending=False)\n",
    "\n",
    "print(\"Top 20 most important features:\")\n",
    "print(feature_importances.head(5))"
   ]
  },
  {
   "cell_type": "code",
   "execution_count": null,
   "metadata": {},
   "outputs": [],
   "source": [
    "# LightGBM Model\n",
    "\n",
    "# Create and train LightGBM model\n",
    "lgb_model = lgb.LGBMClassifier(\n",
    "    random_state=42,\n",
    "    force_col_wise=True\n",
    ")\n",
    "lgb_model.fit(X_train_resampled, y_train_resampled)\n",
    "\n",
    "# Evaluate the LightGBM model\n",
    "y_pred_lgb = lgb_model.predict(X_test_features)\n",
    "print(\"\\nLightGBM Results:\")\n",
    "print(classification_report(y_test_labels, y_pred_lgb))\n",
    "print(\"LightGBM Confusion Matrix:\")\n",
    "print(confusion_matrix(y_test_labels, y_pred_lgb))\n",
    "\n",
    "# Feature importance for LightGBM\n",
    "lgb_feature_importances = pd.DataFrame(\n",
    "    lgb_model.feature_importances_,\n",
    "    index=X_train_resampled.columns,\n",
    "    columns=['importance']\n",
    ").sort_values('importance', ascending=False)\n",
    "\n",
    "print(\"\\nTop 20 most important features (LightGBM):\")\n",
    "print(lgb_feature_importances.head(5))"
   ]
  },
  {
   "cell_type": "code",
   "execution_count": null,
   "metadata": {},
   "outputs": [],
   "source": [
    "# Initialize models with regularization parameters\n",
    "rf_model = RandomForestClassifier(\n",
    "    n_estimators=100,\n",
    "    max_depth=10,\n",
    "    min_samples_split=5,\n",
    "    min_samples_leaf=2,\n",
    "    random_state=42\n",
    ")\n",
    "\n",
    "lgb_model = lgb.LGBMClassifier(\n",
    "    n_estimators=100,\n",
    "    max_depth=10,\n",
    "    min_child_samples=5,\n",
    "    random_state=42,\n",
    "    force_col_wise=True\n",
    ")\n",
    "\n",
    "# Perform cross-validation for Random Forest\n",
    "print(\"Evaluating Random Forest model...\")\n",
    "rf_results = perform_cross_validation(rf_model, X_data, y_data, n_splits=5)\n",
    "\n",
    "print(\"\\nRandom Forest Cross-Validation Results:\")\n",
    "print(\"\\nMetrics per fold:\")\n",
    "print(rf_results[['fold', 'accuracy', 'bad_precision', 'bad_recall', 'bad_f1', \n",
    "                'good_precision', 'good_recall', 'good_f1']])\n",
    "# Calculate and print mean/std metrics\n",
    "mean_metrics = rf_results[['accuracy', 'bad_precision', 'bad_recall', 'bad_f1', \n",
    "                        'good_precision', 'good_recall', 'good_f1']].mean()\n",
    "std_metrics = rf_results[['accuracy', 'bad_precision', 'bad_recall', 'bad_f1', \n",
    "                        'good_precision', 'good_recall', 'good_f1']].std()\n",
    "print(\"\\nMean metrics:\")\n",
    "print(mean_metrics)\n",
    "print(\"\\nStandard deviation:\")\n",
    "print(std_metrics)\n",
    "\n",
    "\n",
    "# Repeat for LightGBM\n",
    "print(\"\\nEvaluating LightGBM model...\")\n",
    "lgb_results = perform_cross_validation(lgb_model, X_data, y_data, n_splits=5)\n",
    "# ... (similar printing code for LightGBM results)"
   ]
  },
  {
   "cell_type": "code",
   "execution_count": null,
   "metadata": {},
   "outputs": [],
   "source": [
    "# Calculate and print mean/std metrics\n",
    "lgb_mean_metrics = lgb_results[['accuracy', 'bad_precision', 'bad_recall', 'bad_f1', \n",
    "                        'good_precision', 'good_recall', 'good_f1']].mean()\n",
    "lgb_std_metrics = lgb_results[['accuracy', 'bad_precision', 'bad_recall', 'bad_f1', \n",
    "                        'good_precision', 'good_recall', 'good_f1']].std()\n",
    "print(\"\\nMean metrics:\")\n",
    "print(lgb_mean_metrics)\n",
    "print(\"\\nStandard deviation:\")\n",
    "print(lgb_std_metrics)"
   ]
  }
 ],
 "metadata": {
  "kernelspec": {
   "display_name": "thesis",
   "language": "python",
   "name": "python3"
  },
  "language_info": {
   "codemirror_mode": {
    "name": "ipython",
    "version": 3
   },
   "file_extension": ".py",
   "mimetype": "text/x-python",
   "name": "python",
   "nbconvert_exporter": "python",
   "pygments_lexer": "ipython3",
   "version": "3.11.11"
  }
 },
 "nbformat": 4,
 "nbformat_minor": 4
}
